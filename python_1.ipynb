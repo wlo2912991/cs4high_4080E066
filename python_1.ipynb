{
  "nbformat": 4,
  "nbformat_minor": 0,
  "metadata": {
    "colab": {
      "name": "python_1",
      "provenance": [],
      "collapsed_sections": [],
      "include_colab_link": true
    },
    "kernelspec": {
      "name": "python3",
      "display_name": "Python 3"
    }
  },
  "cells": [
    {
      "cell_type": "markdown",
      "metadata": {
        "id": "view-in-github",
        "colab_type": "text"
      },
      "source": [
        "<a href=\"https://colab.research.google.com/github/wlo2912991/cs4high_4080E066/blob/PYTHON/python_1.ipynb\" target=\"_parent\"><img src=\"https://colab.research.google.com/assets/colab-badge.svg\" alt=\"Open In Colab\"/></a>"
      ]
    },
    {
      "cell_type": "markdown",
      "metadata": {
        "id": "0Gj4kN_2t-8i",
        "colab_type": "text"
      },
      "source": [
        "**加粗文字**#20190923   921後兩天的受難日 第一次寫程式"
      ]
    },
    {
      "cell_type": "code",
      "metadata": {
        "id": "LaojOfRPsRsR",
        "colab_type": "code",
        "outputId": "239f19e9-edc9-4efa-ccd3-932cc717393c",
        "colab": {
          "base_uri": "https://localhost:8080/",
          "height": 67
        }
      },
      "source": [
        "\n",
        "print('hello my name is 維尼')\n",
        "\n",
        "print('我習近平來了')\n",
        "\n",
        "print('我要統治你們所有人 一個都別想跑')"
      ],
      "execution_count": 9,
      "outputs": [
        {
          "output_type": "stream",
          "text": [
            "hello my name is 維尼\n",
            "我習近平來了\n",
            "我要統治你們所有人 一個都別想跑\n"
          ],
          "name": "stdout"
        }
      ]
    },
    {
      "cell_type": "code",
      "metadata": {
        "id": "d78NuC3RudFA",
        "colab_type": "code",
        "outputId": "c7f0bda9-42c6-4ee3-ba63-735f1df062b0",
        "colab": {
          "base_uri": "https://localhost:8080/",
          "height": 302
        }
      },
      "source": [
        "print('         / \\   ')\n",
        "print('      __/   \\__        ')\n",
        "print('     /__star __\\   ')\n",
        "print('        | _ |      ')\n",
        "print('        |/ \\|       ')\n",
        "print('         1*1        ')\n",
        "print('        1***1       ')\n",
        "print('       1*****1      ')\n",
        "print('      1*******1      ')\n",
        "print('     1*********1   ')\n",
        "print('    1***********1   ')\n",
        "print('   1*************1   ')\n",
        "print('  1***************1   ')\n",
        "print(' 1111111111111111111   ')\n",
        "print('         1*1      ')\n",
        "print('         1*1      ')\n",
        "print('         111     ')\n"
      ],
      "execution_count": 10,
      "outputs": [
        {
          "output_type": "stream",
          "text": [
            "          / \\   \n",
            "       __/   \\__        \n",
            "      /__star __\\   \n",
            "         | _ |      \n",
            "         |/ \\|       \n",
            "         1*1        \n",
            "        1***1       \n",
            "       1*****1      \n",
            "      1*******1      \n",
            "     1*********1   \n",
            "    1***********1   \n",
            "   1*************1   \n",
            " 1***************1   \n",
            "1111111111111111111   \n",
            "         1*1      \n",
            "         1*1      \n",
            "         111     \n"
          ],
          "name": "stdout"
        }
      ]
    }
  ]
}