{
  "nbformat": 4,
  "nbformat_minor": 0,
  "metadata": {
    "colab": {
      "name": "python_3.ipynb",
      "provenance": [],
      "include_colab_link": true
    },
    "kernelspec": {
      "name": "python3",
      "display_name": "Python 3"
    }
  },
  "cells": [
    {
      "cell_type": "markdown",
      "metadata": {
        "id": "view-in-github",
        "colab_type": "text"
      },
      "source": [
        "<a href=\"https://colab.research.google.com/github/wlo2912991/cs4high_4080E066/blob/PYTHON/python_3.ipynb\" target=\"_parent\"><img src=\"https://colab.research.google.com/assets/colab-badge.svg\" alt=\"Open In Colab\"/></a>"
      ]
    },
    {
      "cell_type": "markdown",
      "metadata": {
        "id": "oXI6h9Ac8OrM",
        "colab_type": "text"
      },
      "source": [
        "20190923 受難日第三連"
      ]
    },
    {
      "cell_type": "markdown",
      "metadata": {
        "id": "H3u5f64u8N6Q",
        "colab_type": "text"
      },
      "source": [
        "斜体文本註:輸入兩個資料"
      ]
    },
    {
      "cell_type": "code",
      "metadata": {
        "id": "wXCWSWRu5--k",
        "colab_type": "code",
        "colab": {
          "base_uri": "https://localhost:8080/",
          "height": 50
        },
        "outputId": "0514911f-3e73-4b27-d4a5-ab0c818707ee"
      },
      "source": [
        "a,b=eval(input('Please 輸入兩個數字並在中間加上,'))\n",
        "a,b"
      ],
      "execution_count": 4,
      "outputs": [
        {
          "output_type": "stream",
          "text": [
            "Please 輸入兩個數字並在中間加上,12,23\n"
          ],
          "name": "stdout"
        },
        {
          "output_type": "execute_result",
          "data": {
            "text/plain": [
              "(12, 23)"
            ]
          },
          "metadata": {
            "tags": []
          },
          "execution_count": 4
        }
      ]
    },
    {
      "cell_type": "code",
      "metadata": {
        "id": "359z2rFd7tff",
        "colab_type": "code",
        "colab": {}
      },
      "source": [
        ""
      ],
      "execution_count": 0,
      "outputs": []
    }
  ]
}